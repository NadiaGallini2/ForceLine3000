{
 "cells": [
  {
   "cell_type": "code",
   "execution_count": 17,
   "metadata": {},
   "outputs": [
    {
     "name": "stderr",
     "output_type": "stream",
     "text": [
      "[nltk_data] Downloading package punkt to\n",
      "[nltk_data]     C:\\Users\\79501\\AppData\\Roaming\\nltk_data...\n",
      "[nltk_data]   Package punkt is already up-to-date!\n",
      "[nltk_data] Downloading package stopwords to\n",
      "[nltk_data]     C:\\Users\\79501\\AppData\\Roaming\\nltk_data...\n",
      "[nltk_data]   Package stopwords is already up-to-date!\n"
     ]
    },
    {
     "data": {
      "text/plain": [
       "True"
      ]
     },
     "execution_count": 17,
     "metadata": {},
     "output_type": "execute_result"
    }
   ],
   "source": [
    "import numpy as np\n",
    "import pandas as pd\n",
    "import nltk\n",
    "from nltk.corpus import stopwords\n",
    "from nltk.tokenize import RegexpTokenizer\n",
    "from sklearn.feature_extraction.text import TfidfVectorizer, CountVectorizer\n",
    "from gensim.models import Word2Vec\n",
    "from catboost import CatBoostClassifier\n",
    "from sklearn.model_selection import train_test_split\n",
    "from sklearn.metrics import accuracy_score, f1_score, classification_report\n",
    "import re\n",
    "from sklearn.model_selection import GridSearchCV\n",
    "from sklearn.pipeline import Pipeline\n",
    "import spacy\n",
    "import unicodedata\n",
    "import contractions\n",
    "from nltk.corpus import stopwords\n",
    "from nltk.tokenize import word_tokenize\n",
    "import emoji\n",
    "from nltk.stem.snowball import RussianStemmer\n",
    "from imblearn.over_sampling import SMOTE, ADASYN\n",
    "from sklearn.base import BaseEstimator, TransformerMixin\n",
    "\n",
    "nltk.download('punkt')\n",
    "nltk.download('stopwords')"
   ]
  },
  {
   "cell_type": "code",
   "execution_count": 16,
   "metadata": {},
   "outputs": [
    {
     "name": "stdout",
     "output_type": "stream",
     "text": [
      "Collecting gensim\n",
      "  Downloading gensim-4.3.3-cp311-cp311-win_amd64.whl.metadata (8.2 kB)\n",
      "Requirement already satisfied: numpy<2.0,>=1.18.5 in c:\\users\\79501\\appdata\\local\\programs\\python\\python311\\lib\\site-packages (from gensim) (1.26.4)\n",
      "Collecting scipy<1.14.0,>=1.7.0 (from gensim)\n",
      "  Downloading scipy-1.13.1-cp311-cp311-win_amd64.whl.metadata (60 kB)\n",
      "Requirement already satisfied: smart-open>=1.8.1 in c:\\users\\79501\\appdata\\local\\programs\\python\\python311\\lib\\site-packages (from gensim) (7.0.5)\n",
      "Requirement already satisfied: wrapt in c:\\users\\79501\\appdata\\local\\programs\\python\\python311\\lib\\site-packages (from smart-open>=1.8.1->gensim) (1.16.0)\n",
      "Downloading gensim-4.3.3-cp311-cp311-win_amd64.whl (24.0 MB)\n",
      "   ---------------------------------------- 0.0/24.0 MB ? eta -:--:--\n",
      "   ---------------------------------------- 0.0/24.0 MB ? eta -:--:--\n",
      "   -- ------------------------------------- 1.3/24.0 MB 6.1 MB/s eta 0:00:04\n",
      "   -- ------------------------------------- 1.6/24.0 MB 6.5 MB/s eta 0:00:04\n",
      "   ------ --------------------------------- 3.9/24.0 MB 6.3 MB/s eta 0:00:04\n",
      "   --------- ------------------------------ 5.5/24.0 MB 6.3 MB/s eta 0:00:03\n",
      "   ---------- ----------------------------- 6.6/24.0 MB 6.7 MB/s eta 0:00:03\n",
      "   -------------- ------------------------- 8.7/24.0 MB 6.7 MB/s eta 0:00:03\n",
      "   ---------------- ----------------------- 9.7/24.0 MB 6.6 MB/s eta 0:00:03\n",
      "   ------------------ --------------------- 11.0/24.0 MB 6.6 MB/s eta 0:00:02\n",
      "   -------------------- ------------------- 12.1/24.0 MB 6.4 MB/s eta 0:00:02\n",
      "   --------------------- ------------------ 13.1/24.0 MB 6.2 MB/s eta 0:00:02\n",
      "   ----------------------- ---------------- 13.9/24.0 MB 6.0 MB/s eta 0:00:02\n",
      "   ------------------------ --------------- 14.7/24.0 MB 5.7 MB/s eta 0:00:02\n",
      "   ------------------------- -------------- 15.2/24.0 MB 5.6 MB/s eta 0:00:02\n",
      "   -------------------------- ------------- 16.0/24.0 MB 5.4 MB/s eta 0:00:02\n",
      "   --------------------------- ------------ 16.8/24.0 MB 5.2 MB/s eta 0:00:02\n",
      "   ----------------------------- ---------- 17.6/24.0 MB 5.1 MB/s eta 0:00:02\n",
      "   ------------------------------ --------- 18.4/24.0 MB 5.1 MB/s eta 0:00:02\n",
      "   ------------------------------- -------- 19.1/24.0 MB 5.0 MB/s eta 0:00:01\n",
      "   --------------------------------- ------ 19.9/24.0 MB 4.9 MB/s eta 0:00:01\n",
      "   ---------------------------------- ----- 20.7/24.0 MB 4.8 MB/s eta 0:00:01\n",
      "   ----------------------------------- ---- 21.5/24.0 MB 4.8 MB/s eta 0:00:01\n",
      "   ------------------------------------- -- 22.3/24.0 MB 4.7 MB/s eta 0:00:01\n",
      "   -------------------------------------- - 23.1/24.0 MB 4.7 MB/s eta 0:00:01\n",
      "   ---------------------------------------  23.9/24.0 MB 4.6 MB/s eta 0:00:01\n",
      "   ---------------------------------------- 24.0/24.0 MB 4.5 MB/s eta 0:00:00\n",
      "Downloading scipy-1.13.1-cp311-cp311-win_amd64.whl (46.2 MB)\n",
      "   ---------------------------------------- 0.0/46.2 MB ? eta -:--:--\n",
      "    --------------------------------------- 0.8/46.2 MB 3.3 MB/s eta 0:00:14\n",
      "   - -------------------------------------- 1.6/46.2 MB 3.5 MB/s eta 0:00:13\n",
      "   -- ------------------------------------- 2.4/46.2 MB 3.7 MB/s eta 0:00:12\n",
      "   -- ------------------------------------- 3.1/46.2 MB 3.8 MB/s eta 0:00:12\n",
      "   --- ------------------------------------ 3.9/46.2 MB 3.8 MB/s eta 0:00:11\n",
      "   ---- ----------------------------------- 4.7/46.2 MB 3.8 MB/s eta 0:00:12\n",
      "   ---- ----------------------------------- 5.5/46.2 MB 3.7 MB/s eta 0:00:11\n",
      "   ----- ---------------------------------- 6.3/46.2 MB 3.7 MB/s eta 0:00:11\n",
      "   ------ --------------------------------- 7.1/46.2 MB 3.7 MB/s eta 0:00:11\n",
      "   ------ --------------------------------- 7.9/46.2 MB 3.7 MB/s eta 0:00:11\n",
      "   ------- -------------------------------- 8.7/46.2 MB 3.7 MB/s eta 0:00:11\n",
      "   -------- ------------------------------- 9.4/46.2 MB 3.7 MB/s eta 0:00:10\n",
      "   --------- ------------------------------ 10.5/46.2 MB 3.8 MB/s eta 0:00:10\n",
      "   --------- ------------------------------ 11.3/46.2 MB 3.7 MB/s eta 0:00:10\n",
      "   ---------- ----------------------------- 12.1/46.2 MB 3.8 MB/s eta 0:00:10\n",
      "   ----------- ---------------------------- 12.8/46.2 MB 3.8 MB/s eta 0:00:09\n",
      "   ----------- ---------------------------- 13.6/46.2 MB 3.8 MB/s eta 0:00:09\n",
      "   ------------ --------------------------- 14.4/46.2 MB 3.8 MB/s eta 0:00:09\n",
      "   ------------- -------------------------- 15.2/46.2 MB 3.8 MB/s eta 0:00:09\n",
      "   ------------- -------------------------- 16.0/46.2 MB 3.7 MB/s eta 0:00:09\n",
      "   -------------- ------------------------- 16.5/46.2 MB 3.7 MB/s eta 0:00:08\n",
      "   -------------- ------------------------- 17.0/46.2 MB 3.7 MB/s eta 0:00:08\n",
      "   --------------- ------------------------ 17.8/46.2 MB 3.6 MB/s eta 0:00:08\n",
      "   ---------------- ----------------------- 18.6/46.2 MB 3.6 MB/s eta 0:00:08\n",
      "   ---------------- ----------------------- 19.4/46.2 MB 3.6 MB/s eta 0:00:08\n",
      "   ----------------- ---------------------- 19.9/46.2 MB 3.6 MB/s eta 0:00:08\n",
      "   ------------------ --------------------- 21.0/46.2 MB 3.6 MB/s eta 0:00:07\n",
      "   ------------------ --------------------- 21.5/46.2 MB 3.6 MB/s eta 0:00:07\n",
      "   ------------------- -------------------- 22.3/46.2 MB 3.6 MB/s eta 0:00:07\n",
      "   ------------------- -------------------- 23.1/46.2 MB 3.6 MB/s eta 0:00:07\n",
      "   -------------------- ------------------- 24.1/46.2 MB 3.6 MB/s eta 0:00:07\n",
      "   --------------------- ------------------ 24.9/46.2 MB 3.6 MB/s eta 0:00:06\n",
      "   ---------------------- ----------------- 25.7/46.2 MB 3.7 MB/s eta 0:00:06\n",
      "   ---------------------- ----------------- 26.5/46.2 MB 3.7 MB/s eta 0:00:06\n",
      "   ----------------------- ---------------- 27.3/46.2 MB 3.7 MB/s eta 0:00:06\n",
      "   ------------------------ --------------- 28.3/46.2 MB 3.7 MB/s eta 0:00:05\n",
      "   ------------------------- -------------- 29.1/46.2 MB 3.7 MB/s eta 0:00:05\n",
      "   ------------------------- -------------- 29.9/46.2 MB 3.7 MB/s eta 0:00:05\n",
      "   -------------------------- ------------- 30.9/46.2 MB 3.7 MB/s eta 0:00:05\n",
      "   --------------------------- ------------ 31.7/46.2 MB 3.7 MB/s eta 0:00:04\n",
      "   ---------------------------- ----------- 32.5/46.2 MB 3.7 MB/s eta 0:00:04\n",
      "   ---------------------------- ----------- 33.3/46.2 MB 3.7 MB/s eta 0:00:04\n",
      "   ----------------------------- ---------- 34.1/46.2 MB 3.7 MB/s eta 0:00:04\n",
      "   ------------------------------ --------- 35.1/46.2 MB 3.7 MB/s eta 0:00:03\n",
      "   ------------------------------- -------- 35.9/46.2 MB 3.7 MB/s eta 0:00:03\n",
      "   ------------------------------- -------- 36.7/46.2 MB 3.7 MB/s eta 0:00:03\n",
      "   -------------------------------- ------- 37.5/46.2 MB 3.7 MB/s eta 0:00:03\n",
      "   --------------------------------- ------ 38.5/46.2 MB 3.8 MB/s eta 0:00:03\n",
      "   --------------------------------- ------ 39.1/46.2 MB 3.8 MB/s eta 0:00:02\n",
      "   ---------------------------------- ----- 39.8/46.2 MB 3.7 MB/s eta 0:00:02\n",
      "   ----------------------------------- ---- 40.6/46.2 MB 3.7 MB/s eta 0:00:02\n",
      "   ----------------------------------- ---- 41.2/46.2 MB 3.7 MB/s eta 0:00:02\n",
      "   ------------------------------------ --- 41.9/46.2 MB 3.7 MB/s eta 0:00:02\n",
      "   ------------------------------------ --- 42.5/46.2 MB 3.7 MB/s eta 0:00:02\n",
      "   ------------------------------------- -- 43.3/46.2 MB 3.7 MB/s eta 0:00:01\n",
      "   -------------------------------------- - 44.0/46.2 MB 3.7 MB/s eta 0:00:01\n",
      "   -------------------------------------- - 44.8/46.2 MB 3.7 MB/s eta 0:00:01\n",
      "   ---------------------------------------  45.6/46.2 MB 3.7 MB/s eta 0:00:01\n",
      "   ---------------------------------------  46.1/46.2 MB 3.7 MB/s eta 0:00:01\n",
      "   ---------------------------------------- 46.2/46.2 MB 3.6 MB/s eta 0:00:00\n",
      "Installing collected packages: scipy, gensim\n",
      "  Attempting uninstall: scipy\n",
      "    Found existing installation: scipy 1.14.1\n",
      "    Uninstalling scipy-1.14.1:\n",
      "      Successfully uninstalled scipy-1.14.1\n",
      "Successfully installed gensim-4.3.3 scipy-1.13.1\n",
      "Note: you may need to restart the kernel to use updated packages.\n"
     ]
    },
    {
     "name": "stderr",
     "output_type": "stream",
     "text": [
      "  WARNING: Failed to remove contents in a temporary directory 'C:\\Users\\79501\\AppData\\Local\\Programs\\Python\\Python311\\Lib\\site-packages\\~cipy.libs'.\n",
      "  You can safely remove it manually.\n",
      "  WARNING: Failed to remove contents in a temporary directory 'C:\\Users\\79501\\AppData\\Local\\Programs\\Python\\Python311\\Lib\\site-packages\\~cipy'.\n",
      "  You can safely remove it manually.\n"
     ]
    }
   ],
   "source": [
    "pip install gensim"
   ]
  },
  {
   "cell_type": "code",
   "execution_count": 2,
   "metadata": {},
   "outputs": [],
   "source": [
    "df = pd.read_csv('train_data.csv')"
   ]
  },
  {
   "cell_type": "code",
   "execution_count": 3,
   "metadata": {},
   "outputs": [],
   "source": [
    "stemmer = RussianStemmer()\n",
    "\n",
    "# Функция для преобразования эмоджи в слова\n",
    "def emojis_words(text):\n",
    "    clean_text = emoji.demojize(text, delimiters=(\" \", \" \"))\n",
    "    clean_text = clean_text.replace(\":\", \"\").replace(\"_\", \" \")\n",
    "    return clean_text\n",
    "\n",
    "# Функция очистки текста\n",
    "def clean_text(input_text):\n",
    "    # HTML-теги\n",
    "    clean_text = re.sub('<[^<]+?>', '', input_text)\n",
    "\n",
    "    # URL и ссылки\n",
    "    clean_text = re.sub(r'http\\S+', '', clean_text)\n",
    "\n",
    "    # Эмоджи и эмотиконы\n",
    "    clean_text = emojis_words(clean_text)\n",
    "\n",
    "    # Приведение к нижнему регистру\n",
    "    clean_text = clean_text.lower()\n",
    "\n",
    "    # Убираем лишние пробелы\n",
    "    clean_text = re.sub('\\s+', ' ', clean_text)\n",
    "\n",
    "    # Преобразование символов с диакритическими знаками\n",
    "    clean_text = unicodedata.normalize('NFKD', clean_text).encode('ascii', 'ignore').decode('utf-8', 'ignore')\n",
    "\n",
    "    # Разворачиваем сокращения\n",
    "    clean_text = contractions.fix(clean_text)\n",
    "\n",
    "    # Убираем специальные символы\n",
    "    clean_text = re.sub('[^a-zA-Z0-9\\s]', '', clean_text)\n",
    "\n",
    "    # Удаление стоп-слов с использованием NLTK\n",
    "    stop_words = set(stopwords.words('english'))\n",
    "    tokens = word_tokenize(clean_text)\n",
    "    tokens = [token for token in tokens if token not in stop_words]\n",
    "    clean_text = ' '.join(tokens)\n",
    "\n",
    "    return clean_text\n",
    "\n",
    "# Функция лемматизации с использованием spacy\n",
    "def lemmatize_spacy(text):\n",
    "    doc = nlp(text)\n",
    "    lemmatized_tokens = [token.lemma_ for token in doc if token.is_alpha]\n",
    "    return ' '.join(lemmatized_tokens)\n",
    "\n",
    "# Основная функция для обработки текста\n",
    "def preprocess_text(text):\n",
    "    # Приведение текста к нижнему регистру\n",
    "    text = text.lower()\n",
    "    # Удаление чисел и специальных символов\n",
    "    text = re.sub(r'\\d+', '', text)\n",
    "    text = re.sub(r'[^\\w\\s]', '', text)\n",
    "    # Токенизация\n",
    "    tokenizer = RegexpTokenizer(r'\\w+')\n",
    "    tokens = tokenizer.tokenize(text)\n",
    "    # Удаление стоп-слов (если используете русский язык)\n",
    "    stop_words = set(stopwords.words('russian'))\n",
    "    tokens = [word for word in tokens if word not in stop_words]\n",
    "    stem_tokens = [stemmer.stem(word) for word in tokens]\n",
    "    \n",
    "    return ' '.join(stem_tokens)\n",
    "\n"
   ]
  },
  {
   "cell_type": "code",
   "execution_count": 4,
   "metadata": {},
   "outputs": [],
   "source": [
    "df['text'] = df['Тема'] + ' ' + df['Описание']"
   ]
  },
  {
   "cell_type": "code",
   "execution_count": 59,
   "metadata": {},
   "outputs": [],
   "source": [
    "df['text'] = df['text'].apply(preprocess_text)\n",
    "\n",
    "# Разделение данных на обучающую и тестовую выборки\n",
    "X = df['text']\n",
    "y = df['Тип оборудования']\n",
    "X_train, X_test, y_train, y_test = train_test_split(X, y, test_size=0.2, random_state=42)"
   ]
  },
  {
   "cell_type": "code",
   "execution_count": 60,
   "metadata": {},
   "outputs": [
    {
     "data": {
      "text/plain": [
       "Тип оборудования\n",
       "Ноутбук    121\n",
       "Сервер      26\n",
       "СХД          8\n",
       "Name: count, dtype: int64"
      ]
     },
     "execution_count": 60,
     "metadata": {},
     "output_type": "execute_result"
    }
   ],
   "source": [
    "category_counts = y_train.value_counts()\n",
    "category_counts"
   ]
  },
  {
   "cell_type": "code",
   "execution_count": 61,
   "metadata": {},
   "outputs": [
    {
     "data": {
      "text/plain": [
       "Тип оборудования\n",
       "Ноутбук    33\n",
       "СХД         3\n",
       "Сервер      3\n",
       "Name: count, dtype: int64"
      ]
     },
     "execution_count": 61,
     "metadata": {},
     "output_type": "execute_result"
    }
   ],
   "source": [
    "category_counts = y_test.value_counts()\n",
    "category_counts"
   ]
  },
  {
   "cell_type": "code",
   "execution_count": 14,
   "metadata": {},
   "outputs": [
    {
     "data": {
      "text/plain": [
       "0"
      ]
     },
     "execution_count": 14,
     "metadata": {},
     "output_type": "execute_result"
    }
   ],
   "source": [
    "df['text'].isna().sum()"
   ]
  },
  {
   "cell_type": "code",
   "execution_count": 9,
   "metadata": {},
   "outputs": [],
   "source": [
    "param_grid = {\n",
    "    'vectorizer__max_features': [1000, 5000],  # Разные значения для max_features\n",
    "    'catboostclassifier__iterations': [200, 500],  # Количество итераций\n",
    "    'catboostclassifier__learning_rate': [0.01, 0.1],  # Скорость обучения\n",
    "    'catboostclassifier__depth': [4, 6],  # Глубина дерева\n",
    "    'catboostclassifier__l2_leaf_reg': [3, 5]  # Регуляризация для CatBoost\n",
    "}"
   ]
  },
  {
   "cell_type": "code",
   "execution_count": 22,
   "metadata": {},
   "outputs": [
    {
     "name": "stdout",
     "output_type": "stream",
     "text": [
      "Лучшие параметры: {'catboost__bootstrap_type': 'Bayesian', 'catboost__depth': 3, 'catboost__iterations': 350, 'catboost__l2_leaf_reg': 12, 'catboost__learning_rate': 0.1, 'vectorizer__max_features': 1000, 'vectorizer__ngram_range': (1, 2)}\n",
      "Лучшая F1-меры на кросс-валидации: 0.9790\n",
      "F1-меры на тестовой выборке: 0.8863\n"
     ]
    }
   ],
   "source": [
    "class ADASYNTransformer(BaseEstimator, TransformerMixin):\n",
    "    def __init__(self, random_state=42):\n",
    "        self.random_state = random_state\n",
    "        self.adasyn = ADASYN(random_state=self.random_state)\n",
    "    \n",
    "    def fit(self, X, y=None):\n",
    "        return self\n",
    "    \n",
    "    def transform(self, X, y=None):\n",
    "        if y is not None:\n",
    "            X_res, y_res = self.adasyn.fit_resample(X, y)\n",
    "            self.y_resampled = y_res  # Сохраняем y_res для доступа из вне, если необходимо\n",
    "            return X_res\n",
    "        else:\n",
    "            return X\n",
    "\n",
    "\n",
    "pipeline = Pipeline([\n",
    "    ('adasyn', ADASYNTransformer(random_state=42)),  # Шаг с ADASYN\n",
    "    ('vectorizer', TfidfVectorizer()),  # Векторизатор, будет заменяться в GridSearchCV\n",
    "    ('catboost', CatBoostClassifier(verbose=0))\n",
    "])\n",
    "\n",
    "# Гиперпараметры для поиска\n",
    "param_grid = {\n",
    "    'vectorizer__max_features': [1000, 5000],  # Разные значения для max_features\n",
    "    'vectorizer__ngram_range': [(1, 2)],\n",
    "    'catboost__iterations': [200, 350, 500],  # Количество итераций\n",
    "    'catboost__bootstrap_type': ['Bayesian', 'Bernoulli'],\n",
    "    'catboost__learning_rate': [0.01, 0.1],  # Скорость обучения\n",
    "    'catboost__depth': [3, 4],  # Глубина дерева\n",
    "    'catboost__l2_leaf_reg': [12, 14]  # Регуляризация для CatBoost\n",
    "}\n",
    "\n",
    "# Подбор гиперпараметров с GridSearchCV\n",
    "grid_search = GridSearchCV(pipeline, param_grid, cv=5, scoring='f1_weighted', n_jobs=-1)\n",
    "\n",
    "# Обучение с GridSearchCV\n",
    "grid_search.fit(X_train, y_train)\n",
    "\n",
    "# Лучшие параметры и результаты\n",
    "print(f\"Лучшие параметры: {grid_search.best_params_}\")\n",
    "print(f\"Лучшая F1-меры на кросс-валидации: {grid_search.best_score_:.4f}\")\n",
    "\n",
    "# Оценка на тестовых данных\n",
    "y_pred = grid_search.predict(X_test)\n",
    "f1 = f1_score(y_test, y_pred, average='weighted')\n",
    "print(f\"F1-меры на тестовой выборке: {f1:.4f}\")"
   ]
  },
  {
   "cell_type": "code",
   "execution_count": null,
   "metadata": {},
   "outputs": [
    {
     "name": "stdout",
     "output_type": "stream",
     "text": [
      "Лучшие параметры: {'catboost__depth': 4, 'catboost__iterations': 350, 'catboost__l2_leaf_reg': 10, 'catboost__learning_rate': 0.1, 'vectorizer__max_features': 1000}\n",
      "Лучшая F1-меры на кросс-валидации: 0.9790\n",
      "F1-меры на тестовой выборке: 0.8863\n"
     ]
    }
   ],
   "source": [
    "class SMOTETransformer(BaseEstimator, TransformerMixin):\n",
    "    def __init__(self, random_state=42):\n",
    "        self.random_state = random_state\n",
    "        self.SMOTE = SMOTE(random_state=self.random_state)\n",
    "    \n",
    "    def fit(self, X, y=None):\n",
    "        return self\n",
    "    \n",
    "    def transform(self, X, y=None):\n",
    "        if y is not None:\n",
    "            X_res, y_res = self.SMOTE.fit_resample(X, y)\n",
    "            self.y_resampled = y_res  # Сохраняем y_res для доступа из вне, если необходимо\n",
    "            return X_res\n",
    "        else:\n",
    "            return X\n",
    "\n",
    "\n",
    "pipeline = Pipeline([\n",
    "    ('SMOTE', SMOTETransformer(random_state=42)),  # Шаг с ADASYN\n",
    "    ('vectorizer', CountVectorizer()),  # Векторизатор, будет заменяться в GridSearchCV\n",
    "    ('catboost', CatBoostClassifier(verbose=0))\n",
    "])\n",
    "\n",
    "# Гиперпараметры для поиска\n",
    "param_grid = {\n",
    "    'vectorizer__max_features': [1000, 5000],  # Разные значения для max_features\n",
    "    'catboost__iterations': [200, 350, 500],  # Количество итераций\n",
    "    'catboost__bootstrap_type': ['Bayesian', 'Bernoulli'],\n",
    "    'catboost__learning_rate': [0.01, 0.1],  # Скорость обучения\n",
    "    'catboost__depth': [3, 4],  # Глубина дерева\n",
    "    'catboost__l2_leaf_reg': [10, 15]  # Регуляризация для CatBoost\n",
    "}\n",
    "\n",
    "# Подбор гиперпараметров с GridSearchCV\n",
    "grid_search = GridSearchCV(pipeline, param_grid, cv=5, scoring='f1_weighted', n_jobs=-1)\n",
    "\n",
    "# Обучение с GridSearchCV\n",
    "grid_search.fit(X_train, y_train)\n",
    "best_params = grid_search.best_params_\n",
    "\n",
    "# Лучшие параметры и результаты\n",
    "print(f\"Лучшие параметры: {grid_search.best_params_}\")\n",
    "print(f\"Лучшая F1-меры на кросс-валидации: {grid_search.best_score_:.4f}\")\n",
    "\n",
    "# Оценка на тестовых данных\n",
    "y_pred = grid_search.predict(X_test)\n",
    "f1 = f1_score(y_test, y_pred, average='weighted')\n",
    "print(f\"F1-меры на тестовой выборке: {f1:.4f}\")"
   ]
  },
  {
   "cell_type": "code",
   "execution_count": 26,
   "metadata": {},
   "outputs": [],
   "source": [
    "best_params = grid_search.best_params_"
   ]
  },
  {
   "cell_type": "code",
   "execution_count": null,
   "metadata": {},
   "outputs": [
    {
     "name": "stdout",
     "output_type": "stream",
     "text": [
      "Лучшие параметры: {'catboost__depth': 3, 'catboost__iterations': 500, 'catboost__l2_leaf_reg': 10, 'catboost__learning_rate': 0.1, 'vectorizer__max_features': 1000}\n",
      "Лучшая F1-меры на кросс-валидации: 0.9716\n",
      "F1-меры на тестовой выборке: 0.8863\n"
     ]
    }
   ],
   "source": [
    "pipeline = Pipeline([\n",
    "    ('vectorizer', TfidfVectorizer()),  # Векторизатор, будет заменяться в GridSearchCV\n",
    "    ('catboost', CatBoostClassifier(verbose=0))\n",
    "])\n",
    "\n",
    "# Гиперпараметры для поиска\n",
    "param_grid = {\n",
    "    'vectorizer__max_features': [1000, 5000],  # Разные значения для max_features\n",
    "    'catboost__iterations': [200, 350, 500, 700],  # Количество итераций\n",
    "    'catboost__learning_rate': [0.01, 0.1],  # Скорость обучения\n",
    "    'catboost__depth': [3, 4],  # Глубина дерева\n",
    "    'catboost__l2_leaf_reg': [10, 15]  # Регуляризация для CatBoost\n",
    "}\n",
    "\n",
    "# Подбор гиперпараметров с GridSearchCV\n",
    "grid_search = GridSearchCV(pipeline, param_grid, cv=5, scoring='f1_weighted', n_jobs=-1)\n",
    "\n",
    "# Обучение с GridSearchCV\n",
    "grid_search.fit(X_train, y_train)\n",
    "\n",
    "# Лучшие параметры и результаты\n",
    "print(f\"Лучшие параметры: {grid_search.best_params_}\")\n",
    "print(f\"Лучшая F1-меры на кросс-валидации: {grid_search.best_score_:.4f}\")\n",
    "\n",
    "# Оценка на тестовых данных\n",
    "y_pred = grid_search.predict(X_test)\n",
    "f1 = f1_score(y_test, y_pred, average='weighted')\n",
    "print(f\"F1-меры на тестовой выборке: {f1:.4f}\")"
   ]
  },
  {
   "cell_type": "code",
   "execution_count": 89,
   "metadata": {},
   "outputs": [
    {
     "name": "stdout",
     "output_type": "stream",
     "text": [
      "F1-меры на тестовой выборке: 0.8872\n"
     ]
    }
   ],
   "source": [
    "from imblearn.over_sampling import ADASYN\n",
    "\n",
    "# Векторизация текста\n",
    "vectorizer = TfidfVectorizer(max_features=1000, ngram_range= (1, 2))  # Убедитесь, что max_features корректно установлен\n",
    "\n",
    "adasyn = ADASYN(random_state=42)\n",
    "\n",
    "# Преобразование текста\n",
    "X_train_vec = vectorizer.fit_transform(X_train)\n",
    "X_test_vec = vectorizer.transform(X_test)\n",
    "X_train_res, y_train_res = adasyn.fit_resample(X_train_vec, y_train)\n",
    "\n",
    "feature_names = vectorizer.get_feature_names_out()\n",
    "word_index = feature_names.tolist().index(\"ноутбук\")\n",
    "X_train_res[:, word_index] = X_train_res[:, word_index] * 3\n",
    "\n",
    "\n",
    "# Обучение модели CatBoost без GridSearchCV\n",
    "model = CatBoostClassifier(depth=best_params['catboost__depth'],\n",
    "    iterations=best_params['catboost__iterations'],\n",
    "    bootstrap_type=best_params['catboost__bootstrap_type'],\n",
    "    l2_leaf_reg=best_params['catboost__l2_leaf_reg'],\n",
    "    learning_rate=best_params['catboost__learning_rate'], verbose=0)\n",
    "model.fit(X_train_res, y_train_res)\n",
    "\n",
    "# Оценка модели\n",
    "y_pred = model.predict(X_test_vec)\n",
    "\n",
    "# Вычисление F1-меры\n",
    "f1 = f1_score(y_test, y_pred, average='weighted')  # average='weighted' для многоклассовой классификации\n",
    "print(f\"F1-меры на тестовой выборке: {f1:.4f}\")"
   ]
  },
  {
   "cell_type": "code",
   "execution_count": 34,
   "metadata": {},
   "outputs": [
    {
     "data": {
      "text/plain": [
       "array([['Ноутбук'],\n",
       "       ['Ноутбук'],\n",
       "       ['Ноутбук'],\n",
       "       ['Ноутбук'],\n",
       "       ['Ноутбук'],\n",
       "       ['Ноутбук'],\n",
       "       ['Ноутбук'],\n",
       "       ['Сервер'],\n",
       "       ['Ноутбук'],\n",
       "       ['Ноутбук'],\n",
       "       ['Ноутбук'],\n",
       "       ['Ноутбук'],\n",
       "       ['Ноутбук'],\n",
       "       ['Ноутбук'],\n",
       "       ['Ноутбук'],\n",
       "       ['Сервер'],\n",
       "       ['Сервер'],\n",
       "       ['Ноутбук'],\n",
       "       ['Ноутбук'],\n",
       "       ['Ноутбук'],\n",
       "       ['Ноутбук'],\n",
       "       ['Ноутбук'],\n",
       "       ['Ноутбук'],\n",
       "       ['Ноутбук'],\n",
       "       ['Ноутбук'],\n",
       "       ['Ноутбук'],\n",
       "       ['Ноутбук'],\n",
       "       ['Ноутбук'],\n",
       "       ['Ноутбук'],\n",
       "       ['Ноутбук'],\n",
       "       ['Ноутбук'],\n",
       "       ['Ноутбук'],\n",
       "       ['Ноутбук'],\n",
       "       ['Ноутбук'],\n",
       "       ['Сервер'],\n",
       "       ['Ноутбук'],\n",
       "       ['Ноутбук'],\n",
       "       ['Ноутбук'],\n",
       "       ['Ноутбук']], dtype=object)"
      ]
     },
     "execution_count": 34,
     "metadata": {},
     "output_type": "execute_result"
    }
   ],
   "source": [
    "y_pred"
   ]
  },
  {
   "cell_type": "code",
   "execution_count": 90,
   "metadata": {},
   "outputs": [
    {
     "data": {
      "image/png": "[encoded data removed]",
      "text/plain": [
       "<Figure size 640x480 with 2 Axes>"
      ]
     },
     "metadata": {},
     "output_type": "display_data"
    }
   ],
   "source": [
    "from sklearn.metrics import confusion_matrix, ConfusionMatrixDisplay\n",
    "import matplotlib.pyplot as plt\n",
    "\n",
    "# Построение матрицы ошибок\n",
    "cm = confusion_matrix(y_test, y_pred)\n",
    "disp = ConfusionMatrixDisplay(confusion_matrix=cm)\n",
    "disp.plot(cmap='Blues')\n",
    "plt.title(\"Confusion Matrix\")\n",
    "plt.show()"
   ]
  },
  {
   "cell_type": "code",
   "execution_count": 107,
   "metadata": {},
   "outputs": [],
   "source": [
    "errors_df = pd.DataFrame({\n",
    "    'text': list(X_test),\n",
    "    'true_label': list(y_test),\n",
    "    'predicted_label': list(y_pred)\n",
    "})\n",
    "\n",
    "# Фильтруем только ошибочные предсказания\n",
    "errors_df = errors_df[errors_df['true_label'] != errors_df['predicted_label']]\n"
   ]
  },
  {
   "cell_type": "code",
   "execution_count": 108,
   "metadata": {},
   "outputs": [
    {
     "data": {
      "text/html": [
       "<div>\n",
       "<style scoped>\n",
       "    .dataframe tbody tr th:only-of-type {\n",
       "        vertical-align: middle;\n",
       "    }\n",
       "\n",
       "    .dataframe tbody tr th {\n",
       "        vertical-align: top;\n",
       "    }\n",
       "\n",
       "    .dataframe thead th {\n",
       "        text-align: right;\n",
       "    }\n",
       "</style>\n",
       "<table border=\"1\" class=\"dataframe\">\n",
       "  <thead>\n",
       "    <tr style=\"text-align: right;\">\n",
       "      <th></th>\n",
       "      <th>text</th>\n",
       "      <th>true_label</th>\n",
       "      <th>predicted_label</th>\n",
       "    </tr>\n",
       "  </thead>\n",
       "  <tbody>\n",
       "    <tr>\n",
       "      <th>2</th>\n",
       "      <td>СИЛА СХ2-4115-12; СИЛА CX2-4016-25; СИЛА СХ2-4...</td>\n",
       "      <td>СХД</td>\n",
       "      <td>[Ноутбук]</td>\n",
       "    </tr>\n",
       "    <tr>\n",
       "      <th>8</th>\n",
       "      <td>по неисправной плашке памяти на dd203 - Enclos...</td>\n",
       "      <td>СХД</td>\n",
       "      <td>[Ноутбук]</td>\n",
       "    </tr>\n",
       "    <tr>\n",
       "      <th>16</th>\n",
       "      <td>Неисправность диска Enclosure=6:Disk=32 dd202 ...</td>\n",
       "      <td>СХД</td>\n",
       "      <td>[Ноутбук]</td>\n",
       "    </tr>\n",
       "  </tbody>\n",
       "</table>\n",
       "</div>"
      ],
      "text/plain": [
       "                                                 text true_label  \\\n",
       "2   СИЛА СХ2-4115-12; СИЛА CX2-4016-25; СИЛА СХ2-4...        СХД   \n",
       "8   по неисправной плашке памяти на dd203 - Enclos...        СХД   \n",
       "16  Неисправность диска Enclosure=6:Disk=32 dd202 ...        СХД   \n",
       "\n",
       "   predicted_label  \n",
       "2        [Ноутбук]  \n",
       "8        [Ноутбук]  \n",
       "16       [Ноутбук]  "
      ]
     },
     "execution_count": 108,
     "metadata": {},
     "output_type": "execute_result"
    }
   ],
   "source": [
    "errors_df "
   ]
  },
  {
   "cell_type": "code",
   "execution_count": 101,
   "metadata": {},
   "outputs": [],
   "source": [
    "errors_df.to_excel('errors.xlsx')"
   ]
  },
  {
   "cell_type": "code",
   "execution_count": 94,
   "metadata": {},
   "outputs": [],
   "source": [
    "model.save_model('catboost_model.cbm')"
   ]
  },
  {
   "cell_type": "code",
   "execution_count": 96,
   "metadata": {},
   "outputs": [
    {
     "data": {
      "text/plain": [
       "['pipeline.pkl']"
      ]
     },
     "execution_count": 96,
     "metadata": {},
     "output_type": "execute_result"
    }
   ],
   "source": [
    "import joblib\n",
    "joblib.dump(pipeline, 'pipeline.pkl')"
   ]
  },
  {
   "cell_type": "code",
   "execution_count": 109,
   "metadata": {},
   "outputs": [
    {
     "name": "stdout",
     "output_type": "stream",
     "text": [
      "F1-меры на тестовой выборке: 0.8863\n"
     ]
    }
   ],
   "source": [
    "from sklearn.base import BaseEstimator, TransformerMixin\n",
    "from sklearn.pipeline import Pipeline\n",
    "from sklearn.compose import ColumnTransformer\n",
    "from sklearn.feature_extraction.text import TfidfVectorizer\n",
    "from catboost import CatBoostClassifier\n",
    "from imblearn.over_sampling import ADASYN\n",
    "from sklearn.model_selection import train_test_split\n",
    "from sklearn.metrics import f1_score\n",
    "from sklearn.preprocessing import FunctionTransformer\n",
    "import pandas as pd\n",
    "import re\n",
    "import emoji\n",
    "import unicodedata\n",
    "import contractions\n",
    "from nltk.tokenize import word_tokenize\n",
    "from nltk.corpus import stopwords\n",
    "from nltk.stem import SnowballStemmer\n",
    "from sklearn.pipeline import Pipeline\n",
    "import numpy as np\n",
    "\n",
    "# Ваши функции\n",
    "class PreprocessText(BaseEstimator, TransformerMixin):\n",
    "    def __init__(self):\n",
    "        self.stemmer = SnowballStemmer('russian')\n",
    "\n",
    "    def emojis_words(self, text):\n",
    "        clean_text = emoji.demojize(text, delimiters=(\" \", \" \"))\n",
    "        clean_text = clean_text.replace(\":\", \"\").replace(\"_\", \" \")\n",
    "        return clean_text\n",
    "\n",
    "    def clean_text(self, input_text):\n",
    "        clean_text = re.sub('<[^<]+?>', '', input_text)\n",
    "        clean_text = re.sub(r'http\\S+', '', clean_text)\n",
    "        clean_text = self.emojis_words(clean_text)\n",
    "        clean_text = clean_text.lower()\n",
    "        clean_text = re.sub('\\s+', ' ', clean_text)\n",
    "        clean_text = unicodedata.normalize('NFKD', clean_text).encode('ascii', 'ignore').decode('utf-8', 'ignore')\n",
    "        clean_text = contractions.fix(clean_text)\n",
    "        clean_text = re.sub('[^a-zA-Z0-9\\s]', '', clean_text)\n",
    "        stop_words = set(stopwords.words('russian'))\n",
    "        tokens = word_tokenize(clean_text)\n",
    "        tokens = [token for token in tokens if token not in stop_words]\n",
    "        clean_text = ' '.join(tokens)\n",
    "        return clean_text\n",
    "\n",
    "    def preprocess_text(self, text):\n",
    "        text = text.lower()\n",
    "        text = re.sub(r'\\d+', '', text)\n",
    "        text = re.sub(r'[^\\w\\s]', '', text)\n",
    "        tokenizer = RegexpTokenizer(r'\\w+')\n",
    "        tokens = tokenizer.tokenize(text)\n",
    "        stop_words = set(stopwords.words('russian'))\n",
    "        tokens = [word for word in tokens if word not in stop_words]\n",
    "        stem_tokens = [self.stemmer.stem(word) for word in tokens]\n",
    "        return ' '.join(stem_tokens)\n",
    "\n",
    "    def fit(self, X, y=None):\n",
    "        return self\n",
    "\n",
    "    def transform(self, X):\n",
    "        return X.apply(self.preprocess_text)\n",
    "\n",
    "\n",
    "class ADASYNTransformer(BaseEstimator, TransformerMixin):\n",
    "    def __init__(self, random_state=42):\n",
    "        self.random_state = random_state\n",
    "        self.adasyn = ADASYN(random_state=self.random_state)\n",
    "    \n",
    "    def fit(self, X, y=None):\n",
    "        return self\n",
    "    \n",
    "    def transform(self, X, y=None):\n",
    "        if y is not None:\n",
    "            X_res, y_res = self.adasyn.fit_resample(X, y)\n",
    "            self.y_resampled = y_res  # Сохраняем y_res для доступа из вне, если необходимо\n",
    "            return X_res\n",
    "        else:\n",
    "            return X\n",
    "\n",
    "\n",
    "# Подготовка данных\n",
    "best_params = {'catboost__bootstrap_type': 'Bayesian', 'catboost__depth': 3, 'catboost__iterations': 350, \n",
    "                'catboost__l2_leaf_reg': 12, 'catboost__learning_rate': 0.1, \n",
    "                'vectorizer__max_features': 1000, 'vectorizer__ngram_range': (1, 2)}\n",
    "\n",
    "X = df['Тема'] + ' ' + df['Описание']\n",
    "y = df['Тип оборудования']\n",
    "X_train, X_test, y_train, y_test = train_test_split(X, y, test_size=0.2, random_state=42)\n",
    "\n",
    "# Составление пайплайна\n",
    "pipeline = Pipeline([\n",
    "    ('preprocessor', PreprocessText()),  # Обработка текста\n",
    "    ('adasyn', ADASYNTransformer(random_state=42)),\n",
    "    ('vectorizer', TfidfVectorizer(max_features=1000, ngram_range=(1, 2))),  # Векторизация текста\n",
    "    ('classifier', CatBoostClassifier(  depth=best_params['catboost__depth'],\n",
    "                                        iterations=best_params['catboost__iterations'],\n",
    "                                        bootstrap_type=best_params['catboost__bootstrap_type'],\n",
    "                                        l2_leaf_reg=best_params['catboost__l2_leaf_reg'],\n",
    "                                        learning_rate=best_params['catboost__learning_rate'], verbose=0))  \n",
    "])\n",
    "\n",
    "# Обучение пайплайна\n",
    "pipeline.fit(X_train, y_train)\n",
    "\n",
    "# Оценка модели\n",
    "y_pred = pipeline.predict(X_test)\n",
    "f1 = f1_score(y_test, y_pred, average='weighted')  \n",
    "print(f\"F1-меры на тестовой выборке: {f1:.4f}\")"
   ]
  },
  {
   "cell_type": "code",
   "execution_count": 110,
   "metadata": {},
   "outputs": [
    {
     "data": {
      "text/plain": [
       "['catboost_pipeline.pkl']"
      ]
     },
     "execution_count": 110,
     "metadata": {},
     "output_type": "execute_result"
    }
   ],
   "source": [
    "joblib.dump(pipeline, 'catboost_pipeline.pkl')"
   ]
  },
  {
   "cell_type": "code",
   "execution_count": null,
   "metadata": {},
   "outputs": [],
   "source": []
  }
 ],
 "metadata": {
  "kernelspec": {
   "display_name": "Python 3",
   "language": "python",
   "name": "python3"
  },
  "language_info": {
   "codemirror_mode": {
    "name": "ipython",
    "version": 3
   },
   "file_extension": ".py",
   "mimetype": "text/x-python",
   "name": "python",
   "nbconvert_exporter": "python",
   "pygments_lexer": "ipython3",
   "version": "3.11.9"
  }
 },
 "nbformat": 4,
 "nbformat_minor": 2
}
